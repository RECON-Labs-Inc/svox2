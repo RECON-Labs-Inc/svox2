{
 "cells": [
  {
   "cell_type": "markdown",
   "metadata": {},
   "source": [
    "# Convert pose format\n"
   ]
  },
  {
   "cell_type": "code",
   "execution_count": 1,
   "metadata": {},
   "outputs": [
    {
     "name": "stderr",
     "output_type": "stream",
     "text": [
      "No license found.\n",
      "Details: Wrong host for license (-4)\n",
      "Wrong host (-193): supplied rehostable hostid doesn't match file\n"
     ]
    }
   ],
   "source": [
    "import sys\n",
    "sys.path.append(\"..\")\n",
    "sys.path.append(\"/workspace/aseeo-research\")\n",
    "import torch\n",
    "from svox2 import *\n",
    "import RLResearch.utils.gen_utils as gu\n",
    "import numpy as np\n",
    "from pathlib import Path\n",
    "import RLResearch.utils.ms_utils as mu\n",
    "import RLResearch.utils.visualization as vi\n",
    "import RLResearch.utils.pose_utils as pu\n",
    "\n",
    "import Metashape\n",
    "import matplotlib.pyplot as plt"
   ]
  },
  {
   "cell_type": "code",
   "execution_count": null,
   "metadata": {},
   "outputs": [],
   "source": [
    "filename = \"/workspace/datasets/cctv/debug_data.pickle\"\n",
    "\n",
    "def load_data(filename):\n",
    "    with open(filename, 'r') as f:\n",
    "        debug_data = pickle.load(f)\n",
    "    return debug_data"
   ]
  },
  {
   "cell_type": "code",
   "execution_count": null,
   "metadata": {},
   "outputs": [],
   "source": [
    "debug_data = load_data(filename)\n",
    "print(debug_data.keys()"
   ]
  }
 ],
 "metadata": {
  "interpreter": {
   "hash": "d4d1e4263499bec80672ea0156c357c1ee493ec2b1c70f0acce89fc37c4a6abe"
  },
  "kernelspec": {
   "display_name": "Python 3.8.8 64-bit ('base': conda)",
   "language": "python",
   "name": "python3"
  },
  "language_info": {
   "codemirror_mode": {
    "name": "ipython",
    "version": 3
   },
   "file_extension": ".py",
   "mimetype": "text/x-python",
   "name": "python",
   "nbconvert_exporter": "python",
   "pygments_lexer": "ipython3",
   "version": "3.8.8"
  },
  "orig_nbformat": 4
 },
 "nbformat": 4,
 "nbformat_minor": 2
}
